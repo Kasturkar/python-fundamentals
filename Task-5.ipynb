{
 "cells": [
  {
   "cell_type": "code",
   "execution_count": 1,
   "id": "99ae5abc",
   "metadata": {},
   "outputs": [
    {
     "name": "stdout",
     "output_type": "stream",
     "text": [
      "* \n",
      "* * \n",
      "* * * \n"
     ]
    }
   ],
   "source": [
    "#Create 3 star\n",
    "def print_star_pattern(rows):\n",
    "    for i in range(1, rows + 1):\n",
    "        print(\"* \" * i)\n",
    "\n",
    "\n",
    "rows = 3\n",
    "print_star_pattern(rows)\n"
   ]
  },
  {
   "cell_type": "code",
   "execution_count": 2,
   "id": "0dd1dbad",
   "metadata": {},
   "outputs": [
    {
     "name": "stdout",
     "output_type": "stream",
     "text": [
      "The result of 2 * 3 * 4 is 24\n"
     ]
    }
   ],
   "source": [
    "def multiply_three_values(a, b, c):\n",
    "    result = a * b * c\n",
    "    return result\n",
    "\n",
    "\n",
    "x = 2\n",
    "y = 3\n",
    "z = 4\n",
    "\n",
    "result = multiply_three_values(x, y, z)\n",
    "print(f\"The result of {x} * {y} * {z} is {result}\")\n"
   ]
  },
  {
   "cell_type": "code",
   "execution_count": 6,
   "id": "dc474430",
   "metadata": {},
   "outputs": [
    {
     "name": "stdout",
     "output_type": "stream",
     "text": [
      "2 raised to the power 3 is 8\n"
     ]
    }
   ],
   "source": [
    "#power fuction eg. 2 raised to 3, 5raised to 4, base raised to power (power)\n",
    "def power(base, exponent):\n",
    "    result = base ** exponent\n",
    "    return result\n",
    "\n",
    "\n",
    "base = 2\n",
    "exponent = 3\n",
    "result = power(base, exponent)\n",
    "print(f\"{base} raised to the power {exponent} is {result}\")\n"
   ]
  },
  {
   "cell_type": "code",
   "execution_count": 4,
   "id": "25f2d4f2",
   "metadata": {},
   "outputs": [
    {
     "name": "stdout",
     "output_type": "stream",
     "text": [
      "The cube of 5 is 125\n"
     ]
    }
   ],
   "source": [
    "# cube of any value (cube())\n",
    "def cube(value):\n",
    "    result = value * value * value\n",
    "    return result\n",
    "\n",
    "\n",
    "number = 5\n",
    "cubed_value = cube(number)\n",
    "print(\"The cube of\", number, \"is\", cubed_value)\n"
   ]
  },
  {
   "cell_type": "code",
   "execution_count": 5,
   "id": "9d19b54e",
   "metadata": {},
   "outputs": [
    {
     "name": "stdout",
     "output_type": "stream",
     "text": [
      "The factorial of 5 is 120\n"
     ]
    }
   ],
   "source": [
    "#Define Factorial function fact(n)\n",
    "def factorial(n):\n",
    "    if n == 0:\n",
    "        return 1\n",
    "    else:\n",
    "        return n * factorial(n - 1)\n",
    "\n",
    "\n",
    "number = 5\n",
    "result = factorial(number)\n",
    "print(f\"The factorial of {number} is {result}\")\n"
   ]
  },
  {
   "cell_type": "code",
   "execution_count": 21,
   "id": "d188e64d",
   "metadata": {},
   "outputs": [
    {
     "name": "stdout",
     "output_type": "stream",
     "text": [
      "The sum of even numbers is: 96\n"
     ]
    }
   ],
   "source": [
    "#  Addition of only even Numbers even (1,2,5,46,4,5,42,45,2)\n",
    "def sum_even_numbers(numbers):\n",
    "    result = 0\n",
    "    for num in numbers:\n",
    "        if num % 2 == 0:\n",
    "            result += num\n",
    "    return result\n",
    "\n",
    "\n",
    "numbers = [1, 2, 5, 46, 4, 5, 42, 45, 2]\n",
    "even_sum = sum_even_numbers(numbers)\n",
    "print(f\"The sum of even numbers is: {even_sum}\")\n"
   ]
  },
  {
   "cell_type": "code",
   "execution_count": 17,
   "id": "cf8b8a42",
   "metadata": {},
   "outputs": [
    {
     "name": "stdout",
     "output_type": "stream",
     "text": [
      "Your Name\n",
      "Your Name\n",
      "Your Name\n",
      "Your Name\n",
      "Your Name\n",
      "Your Name\n",
      "Your Name\n",
      "Your Name\n",
      "Your Name\n",
      "Your Name\n",
      "Your Name\n",
      "Your Name\n",
      "Your Name\n",
      "Your Name\n",
      "Your Name\n",
      "Your Name\n",
      "Your Name\n",
      "Your Name\n",
      "Your Name\n",
      "Your Name\n",
      "Your Name\n",
      "Your Name\n",
      "Your Name\n",
      "Your Name\n",
      "Your Name\n",
      "Your Name\n",
      "Your Name\n",
      "Your Name\n",
      "Your Name\n",
      "Your Name\n",
      "Your Name\n",
      "Your Name\n",
      "Your Name\n",
      "Your Name\n",
      "Your Name\n"
     ]
    }
   ],
   "source": [
    " #print your name of specific times names (35)\n",
    "name = \"Your Name\"\n",
    " reapet= 35\n",
    "\n",
    "for i in range(reapet):\n",
    "    print(name)\n"
   ]
  },
  {
   "cell_type": "code",
   "execution_count": 16,
   "id": "d4a23649",
   "metadata": {},
   "outputs": [
    {
     "name": "stdout",
     "output_type": "stream",
     "text": [
      "[20, 21, 22, 23, 24, 25, 26, 27, 28, 29, 30, 31, 32, 33, 34, 35, 36, 37, 38, 39, 40, 41, 42, 43, 44, 45, 46, 47, 48, 49, 50, 51, 52, 53, 54, 55, 56]\n"
     ]
    }
   ],
   "source": [
    "#creat list for specific Range..\n",
    "def create_list(start, end):\n",
    "    \n",
    "\n",
    "    result = []\n",
    "    for i in range(start, end + 1):\n",
    "        result.append(i)\n",
    "\n",
    "    return result\n",
    "\n",
    "\n",
    "start_value = 20\n",
    "end_value = 56\n",
    "result_list = create_list(start_value, end_value)\n",
    "print(result_list)\n"
   ]
  },
  {
   "cell_type": "code",
   "execution_count": null,
   "id": "a6a324be",
   "metadata": {},
   "outputs": [],
   "source": []
  }
 ],
 "metadata": {
  "kernelspec": {
   "display_name": "Python 3 (ipykernel)",
   "language": "python",
   "name": "python3"
  },
  "language_info": {
   "codemirror_mode": {
    "name": "ipython",
    "version": 3
   },
   "file_extension": ".py",
   "mimetype": "text/x-python",
   "name": "python",
   "nbconvert_exporter": "python",
   "pygments_lexer": "ipython3",
   "version": "3.9.13"
  }
 },
 "nbformat": 4,
 "nbformat_minor": 5
}
