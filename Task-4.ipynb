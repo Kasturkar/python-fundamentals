{
 "cells": [
  {
   "cell_type": "code",
   "execution_count": 1,
   "id": "a5a7e678",
   "metadata": {},
   "outputs": [
    {
     "name": "stdout",
     "output_type": "stream",
     "text": [
      "The maximum value in the list is: 42\n"
     ]
    }
   ],
   "source": [
    "#Write a Python function to find the maximum of from given\n",
    "def find_maximum(numbers):\n",
    "    if not numbers:\n",
    "        return None  # Return None for an empty list\n",
    "\n",
    "    max_num = numbers[0]  # Initialize max_num with the first element\n",
    "\n",
    "    for num in numbers:\n",
    "        if num > max_num:\n",
    "            max_num = num\n",
    "\n",
    "    return max_num\n",
    "\n",
    "\n",
    "numbers = [5, 12, 9, 42, 8, 17]\n",
    "maximum = find_maximum(numbers)\n",
    "print(\"The maximum value in the list is:\", maximum)\n"
   ]
  },
  {
   "cell_type": "code",
   "execution_count": 3,
   "id": "97231e76",
   "metadata": {},
   "outputs": [
    {
     "name": "stdout",
     "output_type": "stream",
     "text": [
      "The sum of the numbers in the list is 20\n"
     ]
    }
   ],
   "source": [
    "# Write a Python function to sum all the numbers in a list,Sample List : [8, 2, 3, 0, 7] Expected Output : 20 \n",
    "        def sum_list(numbers):\n",
    "    total = 0  # Initialize a variable to store the sum\n",
    "\n",
    "    for num in numbers:\n",
    "        total += num  # Add each number to the total\n",
    "\n",
    "    return total\n",
    "\n",
    "\n",
    "sample_list = [8, 2, 3, 0, 7]\n",
    "result = sum_list(sample_list)\n",
    "print(\"The sum of the numbers in the list is:\", result)\n"
   ]
  },
  {
   "cell_type": "code",
   "execution_count": 5,
   "id": "2f3df77a",
   "metadata": {},
   "outputs": [
    {
     "name": "stdout",
     "output_type": "stream",
     "text": [
      "Unique List: [1, 2, 3, 4, 5]\n"
     ]
    }
   ],
   "source": [
    "#Python function that takes a list and returns a new list with distinct elements from the first list\n",
    "def unique_elements(input_list):\n",
    "    unique_list = []  # Initialize a new list to store unique elements\n",
    "    \n",
    "    for item in input_list:\n",
    "        if item not in unique_list:\n",
    "            unique_list.append(item)  # Add element to the unique_list if it's not already there\n",
    "    \n",
    "    return unique_list\n",
    "\n",
    "\n",
    "sample_list = [1, 2, 3, 3, 3, 3, 4, 5]\n",
    "result = unique_elements(sample_list)\n",
    "print(\"Unique List:\", result)\n",
    "\n",
    "\n"
   ]
  },
  {
   "cell_type": "code",
   "execution_count": 7,
   "id": "85225ad6",
   "metadata": {},
   "outputs": [
    {
     "name": "stdout",
     "output_type": "stream",
     "text": [
      "5\n"
     ]
    }
   ],
   "source": [
    "def find_max(nums):\n",
    "    max_num = nums[0]\n",
    "    for num in nums:\n",
    "        if num > max_num:\n",
    "            max_num = num\n",
    "    return max_num\n",
    "\n",
    "\n",
    "num = [1, 2, 3, 4, 5]\n",
    "max_value = find_max(num)\n",
    "print(max_value)\n",
    "\n"
   ]
  },
  {
   "cell_type": "code",
   "execution_count": 10,
   "id": "09d96c58",
   "metadata": {},
   "outputs": [
    {
     "name": "stdout",
     "output_type": "stream",
     "text": [
      "Total number of combinations: 3\n"
     ]
    }
   ],
   "source": [
    "#Write a Python function total number of  Combinations.\n",
    "\n",
    "def factorial(n):\n",
    "    if n == 0:\n",
    "        return 1\n",
    "    else:\n",
    "        result = 1\n",
    "        for i in range(1, n + 1):\n",
    "            result *= i\n",
    "        return result\n",
    "\n",
    "def total_combinations(items):\n",
    "    n = len(items)\n",
    "    count = 0\n",
    "\n",
    "    for i in range(n):\n",
    "        for j in range(i + 1, n):\n",
    "            count += 1\n",
    "\n",
    "    return count\n",
    "\n",
    "\n",
    "items = [\"a\", \"b\", \"c\"]\n",
    "result = total_combinations(items)\n",
    "print(f\"Total number of combinations: {result}\")\n"
   ]
  },
  {
   "cell_type": "code",
   "execution_count": 17,
   "id": "12e49907",
   "metadata": {},
   "outputs": [
    {
     "name": "stdout",
     "output_type": "stream",
     "text": [
      "Result is = STATISTICS\n"
     ]
    }
   ],
   "source": [
    "# Define a function that accepts lowercase words and returns uppercase words.\n",
    "\n",
    "def convert_to_uppercase(word):\n",
    "    return word.upper()\n",
    "\n",
    "\n",
    "input_word = \"statistics\"\n",
    "result = convert_to_uppercase(input_word)\n",
    "print(f\"Result is = {result}\")\n"
   ]
  },
  {
   "cell_type": "code",
   "execution_count": 14,
   "id": "52a35c0c",
   "metadata": {},
   "outputs": [
    {
     "name": "stdout",
     "output_type": "stream",
     "text": [
      "Upper case: 5\n",
      "Lower case: 5\n"
     ]
    }
   ],
   "source": [
    "#count lower case and upper case  letter\n",
    "\n",
    "def count_upper_and_lower_case(s):\n",
    "    upper_count = 0\n",
    "    lower_count = 0\n",
    "    \n",
    "    for char in s:\n",
    "        if char.isupper():\n",
    "            upper_count += 1\n",
    "        elif char.islower():\n",
    "            lower_count += 1\n",
    "    \n",
    "    return f\"Upper case: {upper_count}\\nLower case: {lower_count}\"\n",
    "\n",
    "\n",
    "input_string = \"STatiStiCS\"\n",
    "result = count_upper_and_lower_case(input_string)\n",
    "print(result)\n"
   ]
  },
  {
   "cell_type": "code",
   "execution_count": null,
   "id": "3c1885c0",
   "metadata": {},
   "outputs": [],
   "source": []
  }
 ],
 "metadata": {
  "kernelspec": {
   "display_name": "Python 3 (ipykernel)",
   "language": "python",
   "name": "python3"
  },
  "language_info": {
   "codemirror_mode": {
    "name": "ipython",
    "version": 3
   },
   "file_extension": ".py",
   "mimetype": "text/x-python",
   "name": "python",
   "nbconvert_exporter": "python",
   "pygments_lexer": "ipython3",
   "version": "3.9.13"
  }
 },
 "nbformat": 4,
 "nbformat_minor": 5
}
