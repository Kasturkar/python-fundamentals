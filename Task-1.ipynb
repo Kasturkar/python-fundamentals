{
 "cells": [
  {
   "cell_type": "code",
   "execution_count": 8,
   "id": "1c8bf855",
   "metadata": {},
   "outputs": [
    {
     "name": "stdout",
     "output_type": "stream",
     "text": [
      "Grade: Fail\n"
     ]
    }
   ],
   "source": [
    "#If-else\n",
    "\n",
    "p = 50\n",
    "\n",
    "if p > 75:\n",
    "    grade = \"O\"\n",
    "elif 60 <= p <= 75:\n",
    "    grade = \"A\"\n",
    "elif 50 < p < 60:\n",
    "    grade = \"B\"\n",
    "elif 35 < p < 50:\n",
    "    grade = \"C\"\n",
    "else:\n",
    "    grade = \"Fail\"\n",
    "\n",
    "print(\"Grade:\", grade)\n"
   ]
  },
  {
   "cell_type": "code",
   "execution_count": 18,
   "id": "121ab598",
   "metadata": {},
   "outputs": [
    {
     "name": "stdout",
     "output_type": "stream",
     "text": [
      "Category: Not divisible by 2 and 3\n"
     ]
    }
   ],
   "source": [
    "n = 7\n",
    "if n % 2 == 0 and n % 3 == 0:\n",
    "    category = \"Divisible by 2 and 3\"\n",
    "elif n % 2 == 0:\n",
    "    category = \"Divisible by 2, not divisible by 3\"\n",
    "elif n % 3 == 0:\n",
    "    category = \"Divisible by 3, not divisible by 2\"\n",
    "else:\n",
    "    category = \"Not divisible by 2 and 3\"\n",
    "\n",
    "print(\"Category:\", category)\n"
   ]
  },
  {
   "cell_type": "code",
   "execution_count": 20,
   "id": "043e033b",
   "metadata": {},
   "outputs": [
    {
     "name": "stdout",
     "output_type": "stream",
     "text": [
      "21\n",
      "23\n",
      "25\n",
      "27\n",
      "29\n",
      "31\n",
      "33\n",
      "35\n",
      "37\n",
      "39\n",
      "41\n",
      "43\n",
      "45\n",
      "47\n",
      "49\n",
      "51\n",
      "53\n",
      "55\n",
      "57\n",
      "59\n",
      "61\n",
      "63\n",
      "65\n",
      "67\n",
      "69\n",
      "71\n",
      "73\n",
      "75\n",
      "77\n",
      "79\n"
     ]
    }
   ],
   "source": [
    "#print odd value between 20 and 80, without using if. Using for loop only.\n",
    "\n",
    "for num in range(21, 81, 2):\n",
    "    print(num)\n"
   ]
  },
  {
   "cell_type": "code",
   "execution_count": 21,
   "id": "fd3c776b",
   "metadata": {},
   "outputs": [
    {
     "name": "stdout",
     "output_type": "stream",
     "text": [
      "[1, 2, 3, 4, 5, 6, 7, 8, 9, 10, 11, 12, 13, 14, 15, 16, 17, 18, 19, 20]\n"
     ]
    }
   ],
   "source": [
    "#Creat a list of 1 to 20 number using for loop [1,2,3..20]my_list = []\n",
    "\n",
    "for num in range(1, 21):\n",
    "    my_list.append(num)\n",
    "\n",
    "print(my_list)\n"
   ]
  },
  {
   "cell_type": "code",
   "execution_count": 23,
   "id": "8e39d2a9",
   "metadata": {},
   "outputs": [
    {
     "name": "stdout",
     "output_type": "stream",
     "text": [
      "[20, 19, 18, 17, 16, 15, 14, 13, 12, 11, 10, 9, 8, 7, 6, 5, 4, 3, 2, 1]\n"
     ]
    }
   ],
   "source": [
    "#Create a  list of 20 to 1 value using  for loop (dont Use Reverse)[20,19,18,...3,2,1]\n",
    "\n",
    "my_list = []\n",
    "\n",
    "for num in range(20, 0, -1):\n",
    "    my_list.append(num)\n",
    "\n",
    "print(my_list)\n"
   ]
  },
  {
   "cell_type": "code",
   "execution_count": 25,
   "id": "c4286554",
   "metadata": {},
   "outputs": [
    {
     "name": "stdout",
     "output_type": "stream",
     "text": [
      "[9261, 12167, 15625, 19683, 24389, 29791, 35937, 42875, 50653, 59319]\n"
     ]
    }
   ],
   "source": [
    " #take Cube of odd values between 20 to 40\n",
    "    \n",
    "cubes_of_odd_values = []\n",
    "\n",
    "for num in range(21, 41, 2):\n",
    "    cube = num ** 3\n",
    "    cubes_of_odd_values.append(cube)\n",
    "\n",
    "print(cubes_of_odd_values)\n"
   ]
  },
  {
   "cell_type": "code",
   "execution_count": null,
   "id": "b2c5d4b5",
   "metadata": {},
   "outputs": [],
   "source": []
  }
 ],
 "metadata": {
  "kernelspec": {
   "display_name": "Python 3 (ipykernel)",
   "language": "python",
   "name": "python3"
  },
  "language_info": {
   "codemirror_mode": {
    "name": "ipython",
    "version": 3
   },
   "file_extension": ".py",
   "mimetype": "text/x-python",
   "name": "python",
   "nbconvert_exporter": "python",
   "pygments_lexer": "ipython3",
   "version": "3.9.13"
  }
 },
 "nbformat": 4,
 "nbformat_minor": 5
}
