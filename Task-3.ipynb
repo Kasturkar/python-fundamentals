{
 "cells": [
  {
   "cell_type": "code",
   "execution_count": 1,
   "id": "5e0e6e19",
   "metadata": {},
   "outputs": [
    {
     "name": "stdout",
     "output_type": "stream",
     "text": [
      "Enter a number: 5\n",
      "5 is odd.\n",
      "Enter another number (or 0 to quit): 2\n",
      "2 is even.\n",
      "Enter another number (or 0 to quit): 0\n"
     ]
    }
   ],
   "source": [
    "#odd-even using while loop \n",
    "# Input a number\n",
    "num = int(input(\"Enter a number: \"))\n",
    "\n",
    "# Check if the number is odd or even using a while loop\n",
    "while num != 0:\n",
    "    if num % 2 == 0:\n",
    "        print(num, \"is even.\")\n",
    "    else:\n",
    "        print(num, \"is odd.\")\n",
    "    \n",
    "    num = int(input(\"Enter another number (or 0 to quit): \"))\n"
   ]
  },
  {
   "cell_type": "code",
   "execution_count": 2,
   "id": "b4e525a9",
   "metadata": {},
   "outputs": [
    {
     "name": "stdout",
     "output_type": "stream",
     "text": [
      "* \n",
      "* * \n",
      "* * * \n",
      "* * * * \n",
      "* * * * * \n"
     ]
    }
   ],
   "source": [
    "n = 5  # The number of rows\n",
    "\n",
    "# Initialize row and column counters\n",
    "row = 1\n",
    "\n",
    "# Start the while loop for each row\n",
    "while row <= n:\n",
    "    # Initialize the column counter\n",
    "    col = 1\n",
    "    \n",
    "    # Print asterisks for each column in the row\n",
    "    while col <= row:\n",
    "        print(\"*\", end=\" \")\n",
    "        col += 1\n",
    "    \n",
    "    # Move to the next row\n",
    "    print()  # Move to the next line\n",
    "    row += 1\n"
   ]
  },
  {
   "cell_type": "code",
   "execution_count": 3,
   "id": "96a7a775",
   "metadata": {},
   "outputs": [
    {
     "name": "stdout",
     "output_type": "stream",
     "text": [
      "[1, 2, 3, 4, 5, 6, 7, 8, 9, 10, 11, 12, 13, 14, 15, 16, 17, 18, 19, 20]\n"
     ]
    }
   ],
   "source": [
    "#Creat list 1-20 numbers list using while loop=> [1,2,3... 20]\n",
    "# Initialize variables\n",
    "\n",
    "numbers = []\n",
    "n = 1\n",
    "\n",
    "# Use a while loop to generate the list\n",
    "while n <= 20:\n",
    "    numbers.append(n)\n",
    "    n += 1\n",
    "\n",
    "# Print the list\n",
    "print(numbers)\n"
   ]
  },
  {
   "cell_type": "code",
   "execution_count": 4,
   "id": "22855baf",
   "metadata": {},
   "outputs": [
    {
     "name": "stdout",
     "output_type": "stream",
     "text": [
      "[20, 19, 18, 17, 16, 15, 14, 13, 12, 11, 10, 9, 8, 7, 6, 5, 4, 3, 2, 1]\n"
     ]
    }
   ],
   "source": [
    "#Creat list 20-1 (revers order) using while loop=> [20,19...1]\n",
    "# Initialize variables\n",
    "numbers = []\n",
    "n = 20\n",
    "\n",
    "while n >= 1:\n",
    "    numbers.append(n)\n",
    "    n -= 1\n",
    "\n",
    "# Print the list\n",
    "print(numbers)\n"
   ]
  },
  {
   "cell_type": "code",
   "execution_count": 5,
   "id": "2bc25ef6",
   "metadata": {},
   "outputs": [
    {
     "name": "stdout",
     "output_type": "stream",
     "text": [
      "Current value: 1\n",
      "Current value: 2\n",
      "Current value: 3\n",
      "Current value: 4\n",
      "Reached 5, breaking out of the loop\n"
     ]
    }
   ],
   "source": [
    "# Using break in a while loop\n",
    "n = 1\n",
    "while n <= 10:\n",
    "    if n == 5:\n",
    "        print(\"Reached 5, breaking out of the loop\")\n",
    "        break\n",
    "    print(\"Current value:\", n)\n",
    "    n += 1\n"
   ]
  },
  {
   "cell_type": "code",
   "execution_count": 6,
   "id": "6154c14e",
   "metadata": {},
   "outputs": [
    {
     "name": "stdout",
     "output_type": "stream",
     "text": [
      "Current value (odd): 1\n",
      "Current value (odd): 3\n",
      "Current value (odd): 5\n",
      "Current value (odd): 7\n",
      "Current value (odd): 9\n"
     ]
    }
   ],
   "source": [
    "# Using continue in a for loop\n",
    "for i in range(1, 11):\n",
    "    if i % 2 == 0:\n",
    "        continue  # Skip even numbers\n",
    "    print(\"Current value (odd):\", i)\n"
   ]
  },
  {
   "cell_type": "code",
   "execution_count": 9,
   "id": "69c2942d",
   "metadata": {},
   "outputs": [
    {
     "name": "stdout",
     "output_type": "stream",
     "text": [
      "Current value: 1\n",
      "Current value: 2\n",
      "three 3, an just pass\n",
      "Current value: 3\n",
      "Current value: 4\n",
      "Current value: 5\n"
     ]
    }
   ],
   "source": [
    "# Using pass in a for loop\n",
    "for j in range(1, 6):\n",
    "    if j == 3:\n",
    "        print(\"three 3, an just pass\")\n",
    "        pass\n",
    "    print(\"Current value:\", j)\n"
   ]
  },
  {
   "cell_type": "code",
   "execution_count": null,
   "id": "da49f6b5",
   "metadata": {},
   "outputs": [],
   "source": []
  }
 ],
 "metadata": {
  "kernelspec": {
   "display_name": "Python 3 (ipykernel)",
   "language": "python",
   "name": "python3"
  },
  "language_info": {
   "codemirror_mode": {
    "name": "ipython",
    "version": 3
   },
   "file_extension": ".py",
   "mimetype": "text/x-python",
   "name": "python",
   "nbconvert_exporter": "python",
   "pygments_lexer": "ipython3",
   "version": "3.9.13"
  }
 },
 "nbformat": 4,
 "nbformat_minor": 5
}
