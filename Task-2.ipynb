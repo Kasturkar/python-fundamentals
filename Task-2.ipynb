{
 "cells": [
  {
   "cell_type": "code",
   "execution_count": 3,
   "id": "7c1f28be",
   "metadata": {},
   "outputs": [
    {
     "name": "stdout",
     "output_type": "stream",
     "text": [
      "My name is a, my age is 20\n",
      "My name is b, my age is 21\n",
      "My name is c, my age is 22\n",
      "My name is d, my age is 23\n",
      "My name is e, my age is 24\n"
     ]
    }
   ],
   "source": [
    " #take 5 freinds name in list name=[a,b,c,d,e]\n",
    "#take corresponding ages in second list age = [20,21,22,23,24]\n",
    "    #my name is a , my age is 20\n",
    "    #my name is b, my age is 21\n",
    "    \n",
    "names = ['a', 'b', 'c', 'd', 'e']\n",
    "ages = [20, 21, 22, 23, 24]\n",
    "\n",
    "for i in range(len(names)):\n",
    "    print(\"My name is \" + names[i] + \", my age is \" + str(ages[i]))\n"
   ]
  },
  {
   "cell_type": "code",
   "execution_count": 4,
   "id": "a676f996",
   "metadata": {},
   "outputs": [
    {
     "name": "stdout",
     "output_type": "stream",
     "text": [
      "[5, 2, 3, 4, 1]\n"
     ]
    }
   ],
   "source": [
    "# Define a sample list\n",
    "my_list = [1, 2, 3, 4, 5]\n",
    "\n",
    "# Check if the list is not empty\n",
    "if len(my_list) > 0:\n",
    "    # Swap the first and last elements without a temp variable\n",
    "    my_list[0], my_list[-1] = my_list[-1], my_list[0]\n",
    "\n",
    "# Print the modified list\n",
    "print(my_list)\n"
   ]
  },
  {
   "cell_type": "code",
   "execution_count": 5,
   "id": "db0257df",
   "metadata": {},
   "outputs": [
    {
     "name": "stdout",
     "output_type": "stream",
     "text": [
      "The length of the string is: 13\n"
     ]
    }
   ],
   "source": [
    "#write code count lenght of string\n",
    "# Define a string\n",
    "my_string = \"Hello, World!\"\n",
    "\n",
    "# Calculate the length of the string\n",
    "length = len(my_string)\n",
    "\n",
    "# Print the length of the string\n",
    "print(\"The length of the string is:\", length)\n"
   ]
  },
  {
   "cell_type": "code",
   "execution_count": 6,
   "id": "a02b25fe",
   "metadata": {},
   "outputs": [
    {
     "name": "stdout",
     "output_type": "stream",
     "text": [
      "The sum of non-negative integers is: 15\n"
     ]
    }
   ],
   "source": [
    "# Define a list of numbers\n",
    "numbers = [1, 4, -5, -20, 10]\n",
    "\n",
    "# Use a list comprehension to filter out non-negative numbers\n",
    "non_negative_numbers = [num for num in numbers if num >= 0]\n",
    "\n",
    "# Calculate the sum of non-negative numbers using the sum() function\n",
    "sum_of_non_negative = sum(non_negative_numbers)\n",
    "\n",
    "# Print the sum of non-negative integers\n",
    "print(\"The sum of non-negative integers is:\", sum_of_non_negative)\n"
   ]
  },
  {
   "cell_type": "code",
   "execution_count": 10,
   "id": "70e73e65",
   "metadata": {},
   "outputs": [
    {
     "name": "stdout",
     "output_type": "stream",
     "text": [
      "Enter a number: 5\n",
      "The factorial of 5 is 120\n"
     ]
    }
   ],
   "source": [
    "# Input the number for which you want to calculate the factorial\n",
    "number = int(input(\"Enter a number: \"))\n",
    "\n",
    "# Initialize a variable to store the factorial\n",
    "factorial = 1\n",
    "\n",
    "# Calculate the factorial using a loop\n",
    "for i in range(1, number + 1):\n",
    "    factorial *= i\n",
    "\n",
    "# Print the result without using an f-string\n",
    "print(\"The factorial of\", number, \"is\", factorial)\n",
    "\n",
    "\n"
   ]
  },
  {
   "cell_type": "code",
   "execution_count": null,
   "id": "6aa3137d",
   "metadata": {},
   "outputs": [],
   "source": []
  }
 ],
 "metadata": {
  "kernelspec": {
   "display_name": "Python 3 (ipykernel)",
   "language": "python",
   "name": "python3"
  },
  "language_info": {
   "codemirror_mode": {
    "name": "ipython",
    "version": 3
   },
   "file_extension": ".py",
   "mimetype": "text/x-python",
   "name": "python",
   "nbconvert_exporter": "python",
   "pygments_lexer": "ipython3",
   "version": "3.9.13"
  }
 },
 "nbformat": 4,
 "nbformat_minor": 5
}
